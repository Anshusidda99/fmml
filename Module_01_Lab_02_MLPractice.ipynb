{
  "nbformat": 4,
  "nbformat_minor": 0,
  "metadata": {
    "colab": {
      "provenance": [],
      "include_colab_link": true
    },
    "kernelspec": {
      "name": "python3",
      "display_name": "Python 3"
    },
    "language_info": {
      "name": "python"
    }
  },
  "cells": [
    {
      "cell_type": "markdown",
      "metadata": {
        "id": "view-in-github",
        "colab_type": "text"
      },
      "source": [
        "<a href=\"https://colab.research.google.com/github/Anshusidda99/fmml/blob/main/Module_01_Lab_02_MLPractice.ipynb\" target=\"_parent\"><img src=\"https://colab.research.google.com/assets/colab-badge.svg\" alt=\"Open In Colab\"/></a>"
      ]
    },
    {
      "cell_type": "markdown",
      "metadata": {
        "id": "3Eu9VZbF01eq"
      },
      "source": [
        "# Machine learning terms and metrics\n",
        "\n",
        "FMML Module 1, Lab 2<br>\n",
        "\n",
        "\n",
        " In this lab, we will show a part of the ML pipeline by extracting features, training and testing"
      ]
    },
    {
      "cell_type": "code",
      "metadata": {
        "id": "8qBvyEem0vLi"
      },
      "source": [
        "import matplotlib.pyplot as plt\n",
        "import numpy as np\n",
        "from sklearn import datasets\n",
        "# set randomseed\n",
        "rng = np.random.default_rng(seed=42)"
      ],
      "execution_count": 1,
      "outputs": []
    },
    {
      "cell_type": "markdown",
      "metadata": {
        "id": "u3t59g5s1HfC"
      },
      "source": [
        "In this lab, we will use the California Housing dataset. There are 20640 samples, each with 8 attributes like income of the block, age of the houses per district etc. The task is to predict the cost of the houses per district.\n",
        "\n",
        "Let us download and examine the dataset."
      ]
    },
    {
      "cell_type": "code",
      "metadata": {
        "id": "8LpqjN991GGJ",
        "colab": {
          "base_uri": "https://localhost:8080/"
        },
        "outputId": "25c456f1-861c-4334-ebf7-6a7294f00aec"
      },
      "source": [
        " dataset =  datasets.fetch_california_housing()\n",
        " # print(dataset.DESCR)  # uncomment this if you want to know more about this dataset\n",
        " # print(dataset.keys())  # if you want to know what else is there in this dataset\n",
        " dataset.target = dataset.target.astype(np.int) # so that we can classify\n",
        " print(dataset.data.shape)\n",
        " print(dataset.target.shape)"
      ],
      "execution_count": 2,
      "outputs": [
        {
          "output_type": "stream",
          "name": "stdout",
          "text": [
            "(20640, 8)\n",
            "(20640,)\n"
          ]
        },
        {
          "output_type": "stream",
          "name": "stderr",
          "text": [
            "<ipython-input-2-60ae2e9a125e>:4: DeprecationWarning: `np.int` is a deprecated alias for the builtin `int`. To silence this warning, use `int` by itself. Doing this will not modify any behavior and is safe. When replacing `np.int`, you may wish to use e.g. `np.int64` or `np.int32` to specify the precision. If you wish to review your current use, check the release note link for additional information.\n",
            "Deprecated in NumPy 1.20; for more details and guidance: https://numpy.org/devdocs/release/1.20.0-notes.html#deprecations\n",
            "  dataset.target = dataset.target.astype(np.int) # so that we can classify\n"
          ]
        }
      ]
    },
    {
      "cell_type": "markdown",
      "metadata": {
        "id": "iNx4174W5xRg"
      },
      "source": [
        "Here is a function for calculating the 1-nearest neighbours"
      ]
    },
    {
      "cell_type": "code",
      "metadata": {
        "id": "07zpydQj1hIQ"
      },
      "source": [
        "def NN1(traindata, trainlabel, query):\n",
        "  diff  = traindata - query  # find the difference between features. Numpy automatically takes care of the size here\n",
        "  sq = diff*diff # square the differences\n",
        "  dist = sq.sum(1) # add up the squares\n",
        "  label = trainlabel[np.argmin(dist)] # our predicted label is the label of the training data which has the least distance from the query\n",
        "  return label\n",
        "\n",
        "def NN(traindata, trainlabel, testdata):\n",
        "  # we will run nearest neighbour for each sample in the test data\n",
        "  # and collect the predicted classes in an array using list comprehension\n",
        "  predlabel = np.array([NN1(traindata, trainlabel, i) for i in testdata])\n",
        "  return predlabel"
      ],
      "execution_count": 3,
      "outputs": []
    },
    {
      "cell_type": "markdown",
      "metadata": {
        "id": "03JktkfIGaje"
      },
      "source": [
        "We will also define a 'random classifier', which randomly allots labels to each sample"
      ]
    },
    {
      "cell_type": "code",
      "metadata": {
        "id": "fogWAtjyGhAH"
      },
      "source": [
        "def RandomClassifier(traindata, trainlabel, testdata):\n",
        "  # in reality, we don't need these arguments\n",
        "\n",
        "  classes = np.unique(trainlabel)\n",
        "  rints = rng.integers(low=0, high=len(classes), size=len(testdata))\n",
        "  predlabel = classes[rints]\n",
        "  return predlabel"
      ],
      "execution_count": 4,
      "outputs": []
    },
    {
      "cell_type": "markdown",
      "metadata": {
        "id": "1Hjf1KHs7fU5"
      },
      "source": [
        "Let us define a metric 'Accuracy' to see how good our learning algorithm is. Accuracy is the ratio of the number of correctly classified samples to the total number of samples. The higher the accuracy, the better the algorithm."
      ]
    },
    {
      "cell_type": "code",
      "metadata": {
        "id": "ouuCqWU07bz-"
      },
      "source": [
        "def Accuracy(gtlabel, predlabel):\n",
        "  assert len(gtlabel)==len(predlabel), \"Length of the groundtruth labels and predicted labels should be the same\"\n",
        "  correct = (gtlabel==predlabel).sum() # count the number of times the groundtruth label is equal to the predicted label.\n",
        "  return correct/len(gtlabel)"
      ],
      "execution_count": 5,
      "outputs": []
    },
    {
      "cell_type": "markdown",
      "metadata": {
        "id": "4vJFwBFa9Klw"
      },
      "source": [
        "Let us make a function to split the dataset with the desired probability."
      ]
    },
    {
      "cell_type": "code",
      "metadata": {
        "id": "Ko0VzpSM2Tdi"
      },
      "source": [
        "def split(data, label, percent):\n",
        "  # generate a random number for each sample\n",
        "  rnd = rng.random(len(label))\n",
        "  split1 = rnd<percent\n",
        "  split2 = rnd>=percent\n",
        "  split1data = data[split1,:]\n",
        "  split1label = label[split1]\n",
        "  split2data = data[split2,:]\n",
        "  split2label = label[split2]\n",
        "  return split1data, split1label, split2data, split2label"
      ],
      "execution_count": 6,
      "outputs": []
    },
    {
      "cell_type": "markdown",
      "metadata": {
        "id": "AcK3LEAJ_LGC"
      },
      "source": [
        "We will reserve 20% of our dataset as the test set. We will not change this portion throughout our experiments"
      ]
    },
    {
      "cell_type": "code",
      "metadata": {
        "id": "bBZkHBLJ1iU-",
        "colab": {
          "base_uri": "https://localhost:8080/"
        },
        "outputId": "fcb322f2-1faf-49dd-def8-ec0913d589e4"
      },
      "source": [
        "testdata, testlabel, alltraindata, alltrainlabel = split(dataset.data, dataset.target, 20/100)\n",
        "print('Number of test samples = ', len(testlabel))\n",
        "print('Number of other samples = ', len(alltrainlabel))\n",
        "print('Percent of test data = ', len(testlabel)*100/len(dataset.target),'%')"
      ],
      "execution_count": 7,
      "outputs": [
        {
          "output_type": "stream",
          "name": "stdout",
          "text": [
            "Number of test samples =  4144\n",
            "Number of other samples =  16496\n",
            "Percent of test data =  20.07751937984496 %\n"
          ]
        }
      ]
    },
    {
      "cell_type": "markdown",
      "metadata": {
        "id": "a6Ss0Z6IAGNV"
      },
      "source": [
        "## Experiments with splits\n",
        "\n",
        "Let us reserve some of our train data as a validation set"
      ]
    },
    {
      "cell_type": "code",
      "metadata": {
        "id": "WFew2iry_7W7"
      },
      "source": [
        "traindata, trainlabel, valdata, vallabel = split(alltraindata, alltrainlabel, 75/100)"
      ],
      "execution_count": 8,
      "outputs": []
    },
    {
      "cell_type": "markdown",
      "metadata": {
        "id": "60hiu4clFN1i"
      },
      "source": [
        "What is the accuracy of our classifiers on the train dataset?"
      ]
    },
    {
      "cell_type": "code",
      "metadata": {
        "id": "DBlZDTHUFTZx",
        "colab": {
          "base_uri": "https://localhost:8080/"
        },
        "outputId": "92cd0ad1-3069-4f5d-e763-a9eb770b3aba"
      },
      "source": [
        "trainpred = NN(traindata, trainlabel, traindata)\n",
        "trainAccuracy = Accuracy(trainlabel, trainpred)\n",
        "print(\"Train accuracy using nearest neighbour is \", trainAccuracy)\n",
        "\n",
        "trainpred = RandomClassifier(traindata, trainlabel, traindata)\n",
        "trainAccuracy = Accuracy(trainlabel, trainpred)\n",
        "print(\"Train accuracy using random classifier is \", trainAccuracy)"
      ],
      "execution_count": 9,
      "outputs": [
        {
          "output_type": "stream",
          "name": "stdout",
          "text": [
            "Train accuracy using nearest neighbour is  1.0\n",
            "Train accuracy using random classifier is  0.164375808538163\n"
          ]
        }
      ]
    },
    {
      "cell_type": "markdown",
      "metadata": {
        "id": "7h08-9gJDtSy"
      },
      "source": [
        "For nearest neighbour, the train accuracy is always 1. The accuracy of the random classifier is close to 1/(number of classes) which is 0.1666 in our case.\n",
        "\n",
        "Let us predict the labels for our validation set and get the accuracy"
      ]
    },
    {
      "cell_type": "code",
      "metadata": {
        "id": "4h7bXoW_2H3v",
        "colab": {
          "base_uri": "https://localhost:8080/"
        },
        "outputId": "11849672-edc9-4f8a-b9e7-dc3c5420f06f"
      },
      "source": [
        "valpred = NN(traindata, trainlabel, valdata)\n",
        "valAccuracy = Accuracy(vallabel, valpred)\n",
        "print(\"Validation accuracy using nearest neighbour is \", valAccuracy)\n",
        "\n",
        "valpred = RandomClassifier(traindata, trainlabel, valdata)\n",
        "valAccuracy = Accuracy(vallabel, valpred)\n",
        "print(\"Validation accuracy using random classifier is \", valAccuracy)"
      ],
      "execution_count": 10,
      "outputs": [
        {
          "output_type": "stream",
          "name": "stdout",
          "text": [
            "Validation accuracy using nearest neighbour is  0.34108527131782945\n",
            "Validation accuracy using random classifier is  0.1688468992248062\n"
          ]
        }
      ]
    },
    {
      "cell_type": "markdown",
      "metadata": {
        "id": "py9bLguFEjfg"
      },
      "source": [
        "Validation accuracy of nearest neighbour is considerably less than its train accuracy while the validation accuracy of random classifier is the same. However, the validation accuracy of nearest neighbour is twice that of the random classifier.\n",
        "\n",
        "Now let us try another random split and check the validation accuracy"
      ]
    },
    {
      "cell_type": "code",
      "metadata": {
        "id": "ujm3cyYzEntE",
        "colab": {
          "base_uri": "https://localhost:8080/"
        },
        "outputId": "db21cd69-ad70-4783-ea7b-1b1ad5718b5e"
      },
      "source": [
        "traindata, trainlabel, valdata, vallabel = split(alltraindata, alltrainlabel, 75/100)\n",
        "valpred = NN(traindata, trainlabel, valdata)\n",
        "valAccuracy = Accuracy(vallabel, valpred)\n",
        "print(\"Validation accuracy of nearest neighbour is \", valAccuracy)"
      ],
      "execution_count": 11,
      "outputs": [
        {
          "output_type": "stream",
          "name": "stdout",
          "text": [
            "Validation accuracy of nearest neighbour is  0.34048257372654156\n"
          ]
        }
      ]
    },
    {
      "cell_type": "markdown",
      "metadata": {
        "id": "oSOx7U83EKie"
      },
      "source": [
        "You can run the above cell multiple times to try with different random splits.\n",
        "We notice that the accuracy is different for each run, but close together.\n",
        "\n",
        "Now let us compare it with the accuracy we get on the test dataset."
      ]
    },
    {
      "cell_type": "code",
      "metadata": {
        "id": "PNEZ5ToYBEDW",
        "colab": {
          "base_uri": "https://localhost:8080/"
        },
        "outputId": "925b1794-d2ae-4815-8f7b-bdf8f7bf38ad"
      },
      "source": [
        "testpred = NN(alltraindata, alltrainlabel, testdata)\n",
        "testAccuracy = Accuracy(testlabel, testpred)\n",
        "print('Test accuracy is ', testAccuracy)"
      ],
      "execution_count": 12,
      "outputs": [
        {
          "output_type": "stream",
          "name": "stdout",
          "text": [
            "Test accuracy is  0.34917953667953666\n"
          ]
        }
      ]
    },
    {
      "cell_type": "markdown",
      "metadata": {
        "id": "w3dGD531K3gH"
      },
      "source": [
        "### Try it out for yourself and answer:\n",
        "1. How is the accuracy of the validation set affected if we increase the percentage of validation set? What happens when we reduce it?\n",
        "2. How does the size of the train and validation set affect how well we can predict the accuracy on the test set using the validation set?\n",
        "3. What do you think is a good percentage to reserve for the validation set so that thest two factors are balanced?\n",
        "\n",
        "Answer for both nearest neighbour and random classifier. You can note down the values for your experiments and plot a graph using  <a href=https://matplotlib.org/stable/gallery/lines_bars_and_markers/step_demo.html#sphx-glr-gallery-lines-bars-and-markers-step-demo-py>plt.plot<href>. Check also for extreme values for splits, like 99.9% or 0.1%"
      ]
    },
    {
      "cell_type": "markdown",
      "metadata": {
        "id": "PnYvkAZLQY7h"
      },
      "source": [
        "## Multiple Splits\n",
        "\n",
        "One way to get more accurate estimates for the test accuracy is by using <b>crossvalidation</b>. Here, we will try a simple version, where we do multiple train/val splits and take the average of validation accuracies as the test accuracy estimation. Here is a function for doing this. Note that this function will take a long time to execute."
      ]
    },
    {
      "cell_type": "code",
      "metadata": {
        "id": "E4nGCUQXBTzo"
      },
      "source": [
        "# you can use this function for random classifier also\n",
        "def AverageAccuracy(alldata, alllabel, splitpercent, iterations, classifier=NN):\n",
        "  accuracy = 0\n",
        "  for ii in range(iterations):\n",
        "    traindata, trainlabel, valdata, vallabel = split(alldata, alllabel, splitpercent)\n",
        "    valpred = classifier(traindata, trainlabel, valdata)\n",
        "    accuracy += Accuracy(vallabel, valpred)\n",
        "  return accuracy/iterations # average of all accuracies"
      ],
      "execution_count": 13,
      "outputs": []
    },
    {
      "cell_type": "code",
      "metadata": {
        "id": "H3qtNar7Bbik",
        "colab": {
          "base_uri": "https://localhost:8080/"
        },
        "outputId": "1aed0f89-c5e5-4e47-e919-dd7e1533e68a"
      },
      "source": [
        "print('Average validation accuracy is ', AverageAccuracy(alltraindata, alltrainlabel, 75/100, 10, classifier=NN))\n",
        "testpred = NN(alltraindata, alltrainlabel, testdata)\n",
        "print('test accuracy is ',Accuracy(testlabel, testpred) )"
      ],
      "execution_count": 14,
      "outputs": [
        {
          "output_type": "stream",
          "name": "stdout",
          "text": [
            "Average validation accuracy is  0.33584635395170215\n",
            "test accuracy is  0.34917953667953666\n"
          ]
        }
      ]
    },
    {
      "cell_type": "markdown",
      "metadata": {
        "id": "33GIn4x5VH-d"
      },
      "source": [
        "This is a very simple way of doing cross-validation. There are many well-known algorithms for cross-validation, like k-fold cross-validation, leave-one-out etc. This will be covered in detail in a later module. For more information about cross-validation, check <a href=https://en.wikipedia.org/wiki/Cross-validation_(statistics)>Cross-validatioin (Wikipedia)</a>\n",
        "\n",
        "### Questions\n",
        "1.\n",
        "2. Does it give more accurate estimate of test accuracy?\n",
        "3. What is the effect of the number of iterations on the estimate? Do we get a better estimate with higher iterations?\n",
        "4. Consider the results you got for the previous questions. Can we deal with a very small train dataset or validation dataset by increasing the iterations?\n"
      ]
    },
    {
      "cell_type": "markdown",
      "source": [
        "Answers:\n",
        "1. Yes, averaging the validation accuracy across multiple splits (commonly referred to as cross-validation) can provide more consistent and reliable results in machine learning compared to a single train-validation split. Cross-validation helps to address some of the variability that may arise from the randomness in data splitting and ensures a more robust evaluation of your model's performance. It is particularly valuable when you have a limited dataset.\n",
        "\n",
        "Here's how cross-validation works and why it's beneficial:\n",
        "\n",
        "Data Splitting: Instead of dividing your dataset into just one training set and one validation set, cross-validation involves splitting your data into multiple subsets, typically referred to as \"folds.\"\n",
        "\n",
        "Multiple Training and Validation Runs: You then train and validate your model multiple times, each time using a different fold as the validation set and the remaining folds as the training set. This ensures that your model is evaluated on different portions of the data.\n",
        "\n",
        "Averaging Results: After each run, you record the validation accuracy (or other evaluation metrics). Once all runs are complete, you calculate the average validation accuracy and often the standard deviation to assess consistency.\n",
        "\n",
        "The benefits of cross-validation include:\n",
        "\n",
        "Better Estimation: Cross-validation provides a more accurate estimate of your model's performance because it considers multiple scenarios of how the data can be split. This helps reduce the impact of data variability on your results.\n",
        "\n",
        "Reduced Overfitting: It can help detect overfitting because the model is tested on multiple validation sets, making it more likely to identify if the model performs well on average or if it's overly specific to a single validation set.\n",
        "\n",
        "Improved Robustness: Cross-validation ensures that the results are less dependent on a particular random split, making them more reliable and robust.\n",
        "\n",
        "Common types of cross-validation include k-fold cross-validation and stratified k-fold cross-validation, where k represents the number of folds. The choice of k depends on your dataset size and the trade-off between computational resources and result stability.\n",
        "\n",
        "In summary, using cross-validation to average validation accuracy across multiple splits is a good practice in machine learning, especially when dealing with limited data. It provides more consistent and trustworthy performance metrics for your models, enabling better model selection and hyperparameter tuning.\n",
        "\n",
        "\n",
        "\n",
        "\n",
        "2. Cross-validation provides a more accurate estimate of how your machine learning model is likely to perform on unseen data, which is similar to the test accuracy. However, it's important to note that cross-validation is still an estimate and not a direct substitute for evaluating a model on a completely independent test dataset. Let's break down the relationship between cross-validation and test accuracy:\n",
        "\n",
        "Cross-Validation: In cross-validation, your dataset is divided into multiple subsets (folds). The model is trained and evaluated multiple times, with each fold serving as a validation set while the others are used for training. This process provides a set of validation accuracy scores.\n",
        "\n",
        "Test Accuracy: The test accuracy, on the other hand, is obtained by evaluating your trained model on a completely separate dataset that the model has never seen during training or cross-validation. This is typically a holdout dataset reserved for final evaluation.\n",
        "\n",
        "Here's how cross-validation relates to test accuracy:\n",
        "\n",
        "Cross-validation provides a more robust estimate of how well your model generalizes to unseen data compared to a single train-test split. By averaging validation scores across multiple folds, you reduce the influence of randomness in data splitting.\n",
        "\n",
        "While cross-validation is a valuable tool for model assessment, the test accuracy on a truly independent dataset is the most accurate representation of how your model will perform in a real-world scenario. It helps ensure that your model hasn't overfit to the training data or to any specific fold during cross-validation.\n",
        "\n",
        "It's common practice to use cross-validation during model development and hyperparameter tuning to get a sense of how well your model is likely to perform. Once you've finalized your model and hyperparameters, you then evaluate it on the test dataset to get the most reliable estimate of its performance.\n",
        "\n",
        "In summary, cross-validation provides a more accurate estimate of how well your model generalizes to unseen data compared to a single train-test split. However, the truest estimate of test accuracy still comes from evaluating your model on an independent test dataset that it has never encountered before. This ensures that your model's performance is assessed on completely new and unseen examples, which is critical for assessing its real-world performance.\n",
        "\n",
        "\n",
        "\n",
        "\n",
        "3. The number of iterations, often referred to as epochs in machine learning, can have a significant impact on the estimate of your model's performance. However, the relationship between the number of iterations and the quality of the estimate is not always straightforward. The effect of the number of iterations depends on several factors:\n",
        "\n",
        "Underfitting and Convergence: Initially, as you increase the number of iterations, your model typically learns more about the training data, which can lead to better fitting of the data and improved performance. This is especially true if the model was underfitting initially, meaning it hadn't learned the data patterns well. In such cases, more iterations can help the model converge to a better solution.\n",
        "\n",
        "Convergence Speed: Some models may converge quickly, meaning they reach a stable solution with good performance within a few epochs. Others may require more time to converge. The optimal number of iterations may vary based on the complexity of the model and the nature of the data.\n",
        "\n",
        "Overfitting: Increasing the number of iterations beyond a certain point can lead to overfitting. Overfitting occurs when the model starts to memorize the training data, including noise and random variations, rather than learning to generalize to unseen data. In such cases, increasing the number of iterations can result in a drop in performance on validation or test data.\n",
        "\n",
        "Early Stopping: To find the right number of iterations, it's common to monitor the model's performance on a separate validation dataset. When the validation performance stops improving and starts to degrade, it's a sign that the model may be overfitting, and you should stop training. This technique is known as early stopping.\n",
        "\n",
        "Computational Resources: Training deep learning models with a large number of iterations can be computationally intensive and time-consuming. In practice, you may need to balance computational constraints with the need for more iterations.\n",
        "\n",
        "Learning Rate and Optimization: The choice of learning rate and optimization algorithm also affects the convergence behavior of the model. Learning rate schedules, where the learning rate decreases over time, can be crucial for achieving convergence.\n",
        "\n",
        "In summary, the effect of the number of iterations on the estimate of your model's performance depends on the specific problem, dataset, and model architecture. It's not always the case that more iterations lead to better estimates. It's important to monitor the model's performance on a validation dataset and be mindful of the trade-off between underfitting and overfitting. Finding the right balance between the number of iterations and model generalization is a key part of training machine learning models.\n",
        "\n",
        "\n",
        "\n",
        "\n",
        "4. While increasing the number of iterations (epochs) in machine learning can help a model better learn from the available training data, it cannot fully compensate for having a very small training dataset or validation dataset. There are limitations to what increasing the number of iterations can achieve in such situations:\n",
        "\n",
        "Overfitting: If you have a very small training dataset and you increase the number of iterations significantly, the risk of overfitting becomes more pronounced. Overfitting occurs when the model becomes too specialized in the training data and performs poorly on unseen data. More iterations can allow the model to fit the training data very closely, including noise and random variations, making it less capable of generalizing to new data.\n",
        "\n",
        "Data Diversity: A small dataset may lack the diversity needed for the model to capture the full range of patterns and variations in the data. Increasing the number of iterations won't create new data; it will merely allow the model to see the same limited data more times, potentially leading to overfitting.\n",
        "\n",
        "Validation Dataset Size: If your validation dataset is also very small, it can lead to unstable estimates of model performance. Increasing the number of iterations won't address the fundamental issue of having an insufficient amount of data for robust validation.\n",
        "\n",
        "Model Complexity: If your model is very complex relative to the size of the dataset, it's more likely to overfit, even with a large number of iterations.\n",
        "\n",
        "To address the challenges posed by a very small training dataset or validation dataset, consider the following strategies:\n",
        "\n",
        "Data Augmentation: If possible, use data augmentation techniques to artificially increase the effective size of your training dataset. This can help the model generalize better.\n",
        "\n",
        "Transfer Learning: If you have access to a pre-trained model on a related task or a larger dataset, you can fine-tune it on your small dataset. Transfer learning leverages knowledge learned from a larger dataset to improve performance on a smaller one.\n",
        "\n",
        "Regularization: Apply regularization techniques like L1, L2, or dropout to mitigate overfitting when dealing with small datasets.\n",
        "\n",
        "Collect More Data: If feasible, consider collecting additional data to increase the size of your training and validation datasets. A larger, diverse dataset can lead to better model generalization.\n",
        "\n",
        "Use Simpler Models: In cases of extremely limited data, it may be beneficial to use simpler models that have fewer parameters to reduce the risk of overfitting.\n",
        "\n",
        "In summary, while increasing the number of iterations can aid in model training, it cannot fully compensate for having a very small training or validation dataset. Addressing the limitations of small datasets often requires a combination of techniques, including data augmentation, regularization, transfer learning, and, ideally, obtaining more data if possible.\n",
        "\n",
        "\n",
        "\n",
        "\n"
      ],
      "metadata": {
        "id": "QQkprGPhDVN4"
      }
    }
  ]
}